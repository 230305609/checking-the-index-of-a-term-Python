{
  "nbformat": 4,
  "nbformat_minor": 0,
  "metadata": {
    "colab": {
      "provenance": []
    },
    "kernelspec": {
      "name": "python3",
      "display_name": "Python 3"
    },
    "language_info": {
      "name": "python"
    }
  },
  "cells": [
    {
      "cell_type": "code",
      "execution_count": 1,
      "metadata": {
        "colab": {
          "base_uri": "https://localhost:8080/"
        },
        "id": "NGXsD5JU5qtX",
        "outputId": "9fda7259-39e4-4725-9b03-3202b6becb1e"
      },
      "outputs": [
        {
          "output_type": "stream",
          "name": "stdout",
          "text": [
            "191\n"
          ]
        }
      ],
      "source": [
        "lista = ['1000genomes', 'AAChange', 'BA1', 'BA1_message', 'BA1_strength', 'BP1', 'BP1_message', 'BP1_strength', 'BP2', 'BP2_message', 'BP2_strength', 'BP3', 'BP3_message', 'BP3_strength', 'BP4', 'BP4_message', 'BP4_strength', 'BP5', 'BP5_message', 'BP5_strength', 'BP6', 'BP6_message', 'BP6_strength', 'BP7', 'BP7_message', 'BP7_strength', 'BS1', 'BS1_message', 'BS1_strength', 'BS2', 'BS2_message', 'BS2_strength', 'BS3', 'BS3_message', 'BS3_strength', 'BS4', 'BS4_message', 'BS4_strength', 'CLINVAR', 'EXAC65000', 'ExonicFunc', 'Func', 'Gene', 'PM1', 'PM1_message', 'PM1_strength', 'PM2', 'PM2_message', 'PM2_strength', 'PM3', 'PM3_message', 'PM3_strength', 'PM4', 'PM4_message', 'PM4_strength', 'PM5', 'PM5_message', 'PM5_strength', 'PM6', 'PM6_message', 'PM6_strength', 'PP1', 'PP1_message', 'PP1_strength', 'PP2', 'PP2_message', 'PP2_strength', 'PP3', 'PP3_message', 'PP3_strength', 'PP4', 'PP4_message', 'PP4_strength', 'PP5', 'PP5_message', 'PP5_strength', 'PS1', 'PS1_message', 'PS1_strength', 'PS2', 'PS2_message', 'PS2_strength', 'PS3', 'PS3_message', 'PS3_strength', 'PS4', 'PS4_message', 'PS4_strength', 'PVS1', 'PVS1_message', 'PVS1_strength', 'aachange_refgene', 'abraom_allele_alt_count', 'abraom_allele_number', 'abraom_frequencies', 'abraom_hemizygous', 'abraom_homozygousalt', 'allele_frequency', 'alt', 'alternate_forward', 'alternate_reverse', 'augAll', 'cadd_phred', 'cadd_raw', 'cadd_raw_rankscore', 'chromosome', 'chromosome_ord', 'class_from_db', 'classification', 'clinsig', 'clnalleleid', 'clndisdb', 'clndn', 'clnrevstat', 'clnsigconf', 'clnvariationid', 'coding_change', 'cosmic70', 'dann_rankscore', 'dann_score', 'dbsc_ada', 'dbsc_rf', 'dbsnp', 'dpsi_max_tissue', 'dpsi_zscore', 'eigen_coding_or_noncoding', 'eigen_pc_raw', 'eigen_raw', 'end', 'esp', 'exac_afr', 'exac_all', 'exac_amr', 'exac_eas', 'exac_fin', 'exac_nfe', 'exac_oth', 'exac_sas', 'exon', 'exonic_func_refgene', 'fathmm_coding_pred', 'fathmm_coding_score', 'fathmm_converted_rankscore', 'fathmm_mkl_coding_rankscore', 'fathmm_pred', 'fathmm_score', 'func_refgene', 'gene_detail_refgene', 'gene_refgene', 'genocanyon_score', 'genocanyon_score_rankscore', 'genomic_super_dups', 'gerp', 'gerp_rs_rankscore', 'gnomad_exome_afr', 'gnomad_exome_all', 'gnomad_exome_amr', 'gnomad_exome_asj', 'gnomad_exome_eas', 'gnomad_exome_fin', 'gnomad_exome_nfe', 'gnomad_exome_oth', 'gnomad_exome_sas', 'gnomad_genome_afr', 'gnomad_genome_all', 'gnomad_genome_amr', 'gnomad_genome_asj', 'gnomad_genome_eas', 'gnomad_genome_fin', 'gnomad_genome_nfe', 'gnomad_genome_oth', 'gtex_v6_gene', 'gtex_v6_tissue', 'hgvs', 'hrc_ac', 'hrc_af', 'hrc_an', 'hrc_non1000g_ac', 'hrc_non1000g_af', 'hrc_non1000g_an', 'icgc_id', 'icgc_occurrence', 'indel_known', 'integrated_confidence_value', 'integrated_fitCons_score', 'integrated_fitcons_score_rankscore', 'interpro_domain', 'intervar_automated', 'kaviar_ac', 'kaviar_af', 'kaviar_an', 'known_variants', 'lrg', 'lrt_converted_rankscore', 'lrt_pred', 'lrt_score', 'm_cap_pred', 'm_cap_rankscore', 'm_cap_score', 'met_rules', 'meta_lr_pred', 'meta_lr_score', 'meta_svm_pred', 'meta_svm_score', 'metalr_rankscore', 'metasvm_rankscore', 'mutation_assessor_pred', 'mutation_assessor_score', 'mutation_assessor_score_rankscore', 'mutation_taster_converted_rankscore', 'mutation_taster_pred', 'mutation_taster_score', 'mutpred_rankscore', 'mutpred_score', 'mycancergenome', 'omim_genemap2', 'oncogene', 'oncokb', 'pfam', 'pharmgkb', 'phast_20', 'phastcons100way_vertebrate', 'phastcons100way_vertebrate_rankscore', 'phastcons20way_mammalian_rankscore', 'phyio_p20', 'phylop100way_vertebrate', 'phylop100way_vertebrate_rankscore', 'phylop20way_mammalian_rankscore', 'polyphen2_hdiv_pred', 'polyphen2_hdiv_rankscore', 'polyphen2_hdiv_score', 'polyphen2_hvar_pred', 'polyphen2_hvar_rankscore', 'polyphen2_hvar_score', 'protein_change', 'provean_converted_rankscore', 'provean_pred', 'provean_score', 'read_depth', 'ref', 'reference_forward', 'reference_reverse', 'regsnp_disease', 'regsnp_fpr', 'regsnp_splicing_site', 'repeat_masker', 'repetitive_region_length', 'revel_rankscore', 'revel_score', 'sift_converted_rankscore', 'sift_pred', 'sift_score', 'siphy', 'siphy_29way_logodds_rankscore', 'snp138', 'start', 'strand_bias', 'total_mt_depth', 'transcript', 'tumor_suppressor_gene', 'uniprot', 'vaf_max', 'vaf_mean', 'vaf_median', 'vaf_min', 'vaf_sample_count', 'vaf_std', 'varcall', 'varcall_count', 'variant_mt_fraction', 'vcf_alt', 'vcf_chromosome', 'vcf_filter', 'vcf_format_keys', 'vcf_format_values', 'vcf_id', 'vcf_info', 'vcf_pos', 'vcf_qual', 'vcf_ref', 'vest', 'vest3_rankscore', 'wg_encode_broad_hmm_gm12878hmm', 'zygosity']\n",
        "#se 'a variante known_variants' em lista\n",
        "if 'known_variants' in lista:\n",
        "  index = lista.index('known_variants')\n",
        "  #se encontrar o index vai imprimir\n",
        "  print(index) "
      ]
    }
  ]
}